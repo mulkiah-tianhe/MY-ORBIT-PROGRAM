{
  "nbformat": 4,
  "nbformat_minor": 0,
  "metadata": {
    "colab": {
      "name": "Copy of KM-05: Functions, OOP, Time Complexity .ipynb",
      "provenance": [],
      "collapsed_sections": []
    },
    "kernelspec": {
      "name": "python3",
      "display_name": "Python 3"
    },
    "language_info": {
      "name": "python"
    }
  },
  "cells": [
    {
      "cell_type": "markdown",
      "metadata": {
        "id": "Le8N3SLcbiAd"
      },
      "source": [
        "# **Fungsi**"
      ]
    },
    {
      "cell_type": "code",
      "metadata": {
        "colab": {
          "base_uri": "https://localhost:8080/"
        },
        "id": "ywDbPVukTDYd",
        "outputId": "3045d010-e23a-426d-9fc5-dc0685cc3a66"
      },
      "source": [
        "# Deklarasi Fungsi\n",
        "def cetak(x):\n",
        "  print(x)\n",
        "\n",
        "# Memanggil Fungsi\n",
        "cetak(\"wokee\")"
      ],
      "execution_count": null,
      "outputs": [
        {
          "output_type": "stream",
          "name": "stdout",
          "text": [
            "wokee\n"
          ]
        }
      ]
    },
    {
      "cell_type": "code",
      "metadata": {
        "id": "o96PL4VKdSj4",
        "colab": {
          "base_uri": "https://localhost:8080/"
        },
        "outputId": "c1269524-7456-422f-8231-835c6c72d76d"
      },
      "source": [
        "def cetak(K):\n",
        "  print(K)\n",
        "\n",
        "cetak(\"hi, welcome to the world program\")"
      ],
      "execution_count": null,
      "outputs": [
        {
          "output_type": "stream",
          "name": "stdout",
          "text": [
            "hi, welcome to the world program (edited)\n "
          ]
        }
      ]
    },
    {
      "cell_type": "code",
      "metadata": {
        "colab": {
          "base_uri": "https://localhost:8080/"
        },
        "id": "RipUgd0NTdjo",
        "outputId": "344ba08b-ccbc-4b78-f2c7-6c43f7457963"
      },
      "source": [
        "# Deklarasi Fungsi dengan pengembalian\n",
        "def tambah(a, b):\n",
        "  return a + b;\n",
        "\n",
        "# Memanggil Fungsi\n",
        "print(tambah(2, 3))"
      ],
      "execution_count": null,
      "outputs": [
        {
          "output_type": "stream",
          "name": "stdout",
          "text": [
            "5\n"
          ]
        }
      ]
    },
    {
      "cell_type": "code",
      "metadata": {
        "colab": {
          "base_uri": "https://localhost:8080/"
        },
        "id": "TtKmO3s7d_XL",
        "outputId": "9e4767eb-9c03-4d1e-cb25-de31d44d0359"
      },
      "source": [
        "def kurang(a, b):\n",
        "  return a - b;\n",
        "\n",
        "print(kurang(16, 2))"
      ],
      "execution_count": null,
      "outputs": [
        {
          "output_type": "stream",
          "name": "stdout",
          "text": [
            "14\n"
          ]
        }
      ]
    },
    {
      "cell_type": "code",
      "metadata": {
        "id": "9r0oXaTxVRvi"
      },
      "source": [
        "def nama_fungsi(arg1, arg2, ...):\n",
        "  # isi fungsi\n",
        "\n",
        "def fungsi_dengan_pengembalian(arg1, arg2, ...):\n",
        "  # isi fungsi\n",
        "  return 'sesuatu'"
      ],
      "execution_count": null,
      "outputs": []
    },
    {
      "cell_type": "markdown",
      "metadata": {
        "id": "SLOP8yGkbpLO"
      },
      "source": [
        "# **Method**"
      ]
    },
    {
      "cell_type": "code",
      "metadata": {
        "id": "P_Z6c_AYWi71"
      },
      "source": [
        "class NamaClass:\n",
        "  def nama_method(arg1, arg2, ...):\n",
        "    # isi method"
      ],
      "execution_count": null,
      "outputs": []
    },
    {
      "cell_type": "code",
      "metadata": {
        "colab": {
          "base_uri": "https://localhost:8080/"
        },
        "id": "uh927B9_W0N1",
        "outputId": "e60b5e97-266e-4ee0-a836-1f02838358d1"
      },
      "source": [
        "# Deklarasi Object (Class)\n",
        "class Kucing(object):\n",
        "  def meong(self):\n",
        "    print(\"meeooong\")\n",
        "\n",
        "# Memanggil method\n",
        "cat = Kucing()\n",
        "cat.meong()"
      ],
      "execution_count": null,
      "outputs": [
        {
          "output_type": "stream",
          "name": "stdout",
          "text": [
            "meeooong\n"
          ]
        }
      ]
    },
    {
      "cell_type": "code",
      "metadata": {
        "colab": {
          "base_uri": "https://localhost:8080/"
        },
        "id": "l3FY0Vt8fBvu",
        "outputId": "2cf7dbd3-8fdf-4875-cc4c-27ab3db8a7a0"
      },
      "source": [
        "class Harimau(object):\n",
        "  def aaauugghh(self):\n",
        "    print(\"aaauugghh\")\n",
        "\n",
        "tiger = Harimau()\n",
        "tiger.aaauugghh()"
      ],
      "execution_count": null,
      "outputs": [
        {
          "output_type": "stream",
          "name": "stdout",
          "text": [
            "aaauugghh\n"
          ]
        }
      ]
    },
    {
      "cell_type": "markdown",
      "metadata": {
        "id": "3WbfqdEWbtsl"
      },
      "source": [
        "# **Lambda Expression**"
      ]
    },
    {
      "cell_type": "code",
      "metadata": {
        "colab": {
          "base_uri": "https://localhost:8080/"
        },
        "id": "wmZuN2s7ZzAZ",
        "outputId": "41eafcb5-3e69-49eb-ada0-790b87fe9582"
      },
      "source": [
        "# Lambda expression\n",
        "tambah = lambda a, b: (a + b)\n",
        "print(tambah(2, 3))"
      ],
      "execution_count": null,
      "outputs": [
        {
          "output_type": "stream",
          "name": "stdout",
          "text": [
            "5\n"
          ]
        }
      ]
    },
    {
      "cell_type": "code",
      "metadata": {
        "colab": {
          "base_uri": "https://localhost:8080/"
        },
        "id": "8l-wrbtEfiRq",
        "outputId": "19a574c0-b6c9-49b3-d29e-2851c7b87c48"
      },
      "source": [
        "tambah = lambda c, d: (c + d)\n",
        "print(tambah(20, 5))"
      ],
      "execution_count": null,
      "outputs": [
        {
          "output_type": "stream",
          "name": "stdout",
          "text": [
            "25\n"
          ]
        }
      ]
    },
    {
      "cell_type": "markdown",
      "metadata": {
        "id": "jxicmjLxkXCa"
      },
      "source": [
        "# **Object Oriented Programming**"
      ]
    },
    {
      "cell_type": "markdown",
      "metadata": {
        "id": "K_u-Dtb6kcBm"
      },
      "source": [
        "## **Encapsulation**"
      ]
    },
    {
      "cell_type": "code",
      "metadata": {
        "id": "9-CEKFKYm2AA"
      },
      "source": [
        "class Kucing:\n",
        "  def __init__(self, nama, usia, warna, jenis):\n",
        "    self.nama = nama\n",
        "    self.usia = usia\n",
        "    self.warna = warna\n",
        "    self.jenis = jenis\n",
        "\n",
        "  def myfunc(self):\n",
        "    print(\"Hello my name is \" + self.nama)\n",
        "  \n",
        "  def meong(self):\n",
        "    print(\"meeeoonnggg... \")\n",
        "\n",
        "  def info(self):\n",
        "    print(f\"nama: {self.nama}, usia: {self.usia}, warna: {self.warna}, jenis: {self.jenis}\")\n",
        "\n",
        "\n",
        "kucing1 = Kucing(\"cemong\", 1, \"putih coklat muda\", \"anggora\")\n",
        "\n",
        "kucing1.info()"
      ],
      "execution_count": null,
      "outputs": []
    },
    {
      "cell_type": "code",
      "metadata": {
        "colab": {
          "base_uri": "https://localhost:8080/"
        },
        "id": "j6KXkV-HkARo",
        "outputId": "8a288191-043a-422b-b608-047e104c057d"
      },
      "source": [
        "class Barang:\n",
        "  def __init__(self, nama, jumlah, harga, jenis):\n",
        "    self.nama = nama\n",
        "    self.jumlah = jumlah\n",
        "    self.harga = harga\n",
        "    self.jenis = jenis\n",
        "\n",
        "  def myfunc(self):\n",
        "    print(\"Jual barang \" + self.nama)\n",
        "  \n",
        "  def info(self):\n",
        "    print(f\"nama: {self.nama}, jumlah: {self.jumlah}, harga: {self.harga}, jenis: {self.jenis}\")\n",
        "\n",
        "barang1 = Barang(\"sepatu\",  1, \"450.000\", \"reebok\")\n",
        "\n",
        "barang1.info()"
      ],
      "execution_count": null,
      "outputs": [
        {
          "output_type": "stream",
          "name": "stdout",
          "text": [
            "nama: sepatu, jumlah: 1, harga: 450.000, jenis: reebok\n"
          ]
        }
      ]
    },
    {
      "cell_type": "markdown",
      "metadata": {
        "id": "Xpt9Lz6vqN-z"
      },
      "source": [
        "## **Abstraction**"
      ]
    },
    {
      "cell_type": "code",
      "metadata": {
        "colab": {
          "base_uri": "https://localhost:8080/"
        },
        "id": "fwa_TEf-v_8f",
        "outputId": "b370bef3-9cde-4112-bff1-162400a457ac"
      },
      "source": [
        "# Memanggil method dari objek tanpa harus mengetahui cara kerja method\n",
        "kucing1.myfunc()"
      ],
      "execution_count": null,
      "outputs": [
        {
          "output_type": "stream",
          "name": "stdout",
          "text": [
            "Hello my name is cemong\n"
          ]
        }
      ]
    },
    {
      "cell_type": "code",
      "metadata": {
        "colab": {
          "base_uri": "https://localhost:8080/"
        },
        "id": "_nZCbz-snDm3",
        "outputId": "6317de37-de8c-4889-d61f-aebf4e677516"
      },
      "source": [
        "barang1.myfunc()"
      ],
      "execution_count": null,
      "outputs": [
        {
          "output_type": "stream",
          "name": "stdout",
          "text": [
            "Jual barang sepatu\n"
          ]
        }
      ]
    },
    {
      "cell_type": "markdown",
      "metadata": {
        "id": "wBoEkCxewdrg"
      },
      "source": [
        "## **Inheritence**"
      ]
    },
    {
      "cell_type": "code",
      "metadata": {
        "colab": {
          "base_uri": "https://localhost:8080/"
        },
        "id": "HsVgKNgowiRP",
        "outputId": "66f1e86c-1842-40e6-96fc-0db81345faf3"
      },
      "source": [
        "class Binatang(object):\n",
        "  def __init__(self, nama, usia, jenis, mamalia):\n",
        "    self.nama = nama\n",
        "    self.usia = usia\n",
        "    self.jenis = jenis\n",
        "    self.mamalia = mamalia\n",
        "\n",
        "  def tidur(self, durasi):\n",
        "    for x in range(durasi):\n",
        "      print(\"ddrrr... ddrrr... \")\n",
        "\n",
        "  def info(self):\n",
        "    print(f\"nama: {self.nama}, usia: {self.usia}, jenis: {self.jenis}, mamalia: {self.mamalia}\")\n",
        "\n",
        "\n",
        "animal1 = Binatang(\"cemong\", 1, \"omnivora\", True)\n",
        "\n",
        "animal1.info()\n",
        "\n",
        "class Kucing(Binatang):\n",
        "  def __init__(self,  nama, usia, jenis, mamalia, warna, jenis_kucing):\n",
        "    super().__init__(nama, usia, jenis, mamalia)\n",
        "    self.warna = warna\n",
        "    self.jenis_kucing = jenis_kucing\n",
        "  \n",
        "  def meong(self):\n",
        "    print(\"meeeonnggg\")\n",
        "\n",
        "  def info_kucing(self):\n",
        "    print(f\"warna: {self.warna}, jenis kucing: {self.jenis_kucing}\")\n",
        "\n",
        "cat1 = Kucing(\"cemong\", 1, \"omnivora\", True, \"putih coklat muda\", \"anggora\")\n",
        "\n",
        "cat1.info()\n",
        "cat1.info_kucing()"
      ],
      "execution_count": null,
      "outputs": [
        {
          "output_type": "stream",
          "name": "stdout",
          "text": [
            "nama: cemong, usia: 1, jenis: omnivora, mamalia: True\n",
            "nama: cemong, usia: 1, jenis: omnivora, mamalia: True\n",
            "warna: putih coklat muda, jenis kucing: anggora\n"
          ]
        }
      ]
    },
    {
      "cell_type": "code",
      "metadata": {
        "colab": {
          "base_uri": "https://localhost:8080/"
        },
        "id": "MXM6bw-Yz9Ex",
        "outputId": "3e0390cc-5671-4b2e-96d5-02a9903db2cc"
      },
      "source": [
        "class Sepatu(Barang):\n",
        "  def __init__(self,  nama, jumlah, harga, jenis, warna, jenis_sepatu):\n",
        "    super().__init__(nama, jumlah, harga, jenis)\n",
        "    self.warna = warna\n",
        "    self.jenis_sepatu = jenis_sepatu \n",
        "\n",
        "  def info_sepatu(self):\n",
        "    print(f\"warna: {self.warna}, jenis sepatu: {self.jenis_sepatu}\")\n",
        "\n",
        "barang1 = Sepatu(\"sepatu\", 1, \"450.000\", \"reebok\", \"merah\", \"sport\")\n",
        "\n",
        "barang1.info()\n",
        "barang1.info_sepatu()"
      ],
      "execution_count": null,
      "outputs": [
        {
          "output_type": "stream",
          "name": "stdout",
          "text": [
            "nama: sepatu, jumlah: 1, harga: 450.000, jenis: reebok\n",
            "warna: merah, jenis sepatu: sport\n"
          ]
        }
      ]
    },
    {
      "cell_type": "markdown",
      "metadata": {
        "id": "lLLHjBNp1HDe"
      },
      "source": [
        "## **Polymorphism**"
      ]
    },
    {
      "cell_type": "code",
      "metadata": {
        "colab": {
          "base_uri": "https://localhost:8080/"
        },
        "id": "BZLA6LDrxDHr",
        "outputId": "6fd8da5b-2a75-4387-ea49-530f946a37fd"
      },
      "source": [
        "class Ikan(Binatang):\n",
        "  def __init__(self,  nama, usia, jenis, mamalia, warna, jenis_air, jenis_ikan):\n",
        "    super().__init__(nama, usia, jenis, mamalia)\n",
        "    self.warna = warna\n",
        "    self.jenis_air = jenis_air\n",
        "    self.jenis_ikan = jenis_ikan\n",
        "  \n",
        "  def berenang(self, durasi):\n",
        "    print(\"wushh... wush... \")\n",
        "\n",
        "  def info_ikan(self):\n",
        "    print(f\"warna: {self.warna}, jenis ikan: {self.jenis_ikan}, jenis air: {self.jenis_air}\")\n",
        "\n",
        "fish1 = Ikan(\"Jago\", 2, \"omnivora\", False, \"Merah Putih\", \"Tawar\", \"Cupang\")\n",
        "\n",
        "fish1.info()\n",
        "fish1.info_ikan()\n",
        "fish1.tidur(5)"
      ],
      "execution_count": null,
      "outputs": [
        {
          "output_type": "stream",
          "name": "stdout",
          "text": [
            "nama: Jago, usia: 2, jenis: omnivora, mamalia: False\n",
            "warna: Merah Putih, jenis ikan: Cupang, jenis air: Tawar\n",
            "ddrrr... ddrrr... \n",
            "ddrrr... ddrrr... \n",
            "ddrrr... ddrrr... \n",
            "ddrrr... ddrrr... \n",
            "ddrrr... ddrrr... \n"
          ]
        }
      ]
    },
    {
      "cell_type": "code",
      "metadata": {
        "colab": {
          "base_uri": "https://localhost:8080/"
        },
        "id": "Ib7hEPe4L49Q",
        "outputId": "2830e278-9aca-4b63-c96f-6640401b2fe7"
      },
      "source": [
        "class Beruang(Binatang):\n",
        "  def __init__(self,  nama, usia, jenis, mamalia, warna, habitat, jenis_makanan):\n",
        "    super().__init__(nama, usia, jenis, mamalia)\n",
        "    self.warna = warna\n",
        "    self.habitat = habitat\n",
        "    self.jenis_makanan = jenis_makanan\n",
        "\n",
        "  def info_ikan(self):\n",
        "    print(f\"warna: {self.warna}, habitat: {self.habitat}, jenis makanan: {self.jenis_makanan}\")\n",
        "\n",
        "bear1 = Beruang(\"Greez\", 10, \"omnivora\", True, \"Coklat\", \"Hutan\", \"Madu\")\n",
        "\n",
        "bear1.info()\n",
        "bear1.info_ikan()\n",
        "bear1.tidur(5)"
      ],
      "execution_count": null,
      "outputs": [
        {
          "output_type": "stream",
          "name": "stdout",
          "text": [
            "nama: Greez, usia: 10, jenis: omnivora, mamalia: True\n",
            "warna: Coklat, habitat: Hutan, jenis makanan: Madu\n",
            "ddrrr... ddrrr... \n",
            "ddrrr... ddrrr... \n",
            "ddrrr... ddrrr... \n",
            "ddrrr... ddrrr... \n",
            "ddrrr... ddrrr... \n"
          ]
        }
      ]
    },
    {
      "cell_type": "markdown",
      "metadata": {
        "id": "bse6mJ62GOR1"
      },
      "source": [
        "## **Activity OOP**\n",
        "\n",
        "Buatlah 3 OOP beserta turunannya dari objek sekitar, buat ulang seperti yang diatas (encapsulation, abstaction, inheritance, polymorphism)"
      ]
    },
    {
      "cell_type": "markdown",
      "metadata": {
        "id": "xf3ylfGtB8qY"
      },
      "source": [
        "# **Time Complexity**\n",
        "## Activity \n",
        "\n",
        "Hitung time complexity dengan bigO Notation pada algoritma berikut:\n",
        "\n",
        "* Tidak perlu di run"
      ]
    },
    {
      "cell_type": "code",
      "metadata": {
        "colab": {
          "base_uri": "https://localhost:8080/"
        },
        "id": "fnk4oJoJCJJG",
        "outputId": "a03d91c6-c975-45ab-8a63-788e71c5d501"
      },
      "source": [
        "# 1 = Big O(2) = O(1)\n",
        "\n",
        "arr = [1, 2, 3, 4, 5]\n",
        "\n",
        "print(arr[0])     #O(1)\n",
        "print(arr[1])     #O(1)"
      ],
      "execution_count": null,
      "outputs": [
        {
          "output_type": "stream",
          "name": "stdout",
          "text": [
            "1\n",
            "2\n"
          ]
        }
      ]
    },
    {
      "cell_type": "code",
      "metadata": {
        "colab": {
          "base_uri": "https://localhost:8080/"
        },
        "id": "LCgmhC-qD0p2",
        "outputId": "e42e5d80-08a0-49f2-fa9d-bc5e05a50ab9"
      },
      "source": [
        "# 2 = Big O (n+3) = O(n)\n",
        "\n",
        "print(arr[2])       #O(1)\n",
        "for number in arr:  #O(n)\n",
        "  print(number)\n",
        "print(arr[1])       #O(1)\n",
        "print(arr[2])       #O(1)\n",
        "\n",
        "#Maka yang diambil yang paling besar yaitu O(n)"
      ],
      "execution_count": null,
      "outputs": [
        {
          "output_type": "stream",
          "name": "stdout",
          "text": [
            "3\n",
            "1\n",
            "2\n",
            "3\n",
            "4\n",
            "5\n",
            "2\n",
            "3\n"
          ]
        }
      ]
    },
    {
      "cell_type": "code",
      "metadata": {
        "colab": {
          "base_uri": "https://localhost:8080/"
        },
        "id": "w5Upv3LdECFO",
        "outputId": "79c31702-9742-4125-a69c-c3ff9bf28221"
      },
      "source": [
        "# 3 = Big O (2n+1) = O(n)\n",
        "\n",
        "arr2 = [6, 7, 8, 9, 10]\n",
        "\n",
        "for number in arr:    #O(n)\n",
        "  print(number)\n",
        "for number in arr2:   #O(n)\n",
        "  print(number)\n",
        "print(arr2[4])        #O(1)\n",
        "#Maka yang diambil yang paling besar yaitu O(2n)"
      ],
      "execution_count": null,
      "outputs": [
        {
          "output_type": "stream",
          "name": "stdout",
          "text": [
            "1\n",
            "2\n",
            "3\n",
            "4\n",
            "5\n",
            "6\n",
            "7\n",
            "8\n",
            "9\n",
            "10\n",
            "10\n"
          ]
        }
      ]
    },
    {
      "cell_type": "code",
      "metadata": {
        "colab": {
          "base_uri": "https://localhost:8080/"
        },
        "id": "yXtKHziAEghO",
        "outputId": "eae70583-788f-47c3-eb02-e2c84de0e750"
      },
      "source": [
        "# 4 = Big O (2n+1) = O(n)\n",
        "\n",
        "print(arr2[1])        #O(1)\n",
        "for number in arr:    #O(n)\n",
        "  print(number)\n",
        "for number in arr:    #O(n)\n",
        "  print(number)\n",
        "\n",
        "#Maka yang diambil yang paling besar yaitu O(2n)"
      ],
      "execution_count": null,
      "outputs": [
        {
          "output_type": "stream",
          "name": "stdout",
          "text": [
            "7\n",
            "1\n",
            "2\n",
            "3\n",
            "4\n",
            "5\n",
            "1\n",
            "2\n",
            "3\n",
            "4\n",
            "5\n"
          ]
        }
      ]
    },
    {
      "cell_type": "code",
      "metadata": {
        "colab": {
          "base_uri": "https://localhost:8080/"
        },
        "id": "9dXVL-S9EzxT",
        "outputId": "1f42f558-cc9f-4c53-854b-93b2d58fd210"
      },
      "source": [
        "# 5 = Big O (2n+2) = O(n)\n",
        "\n",
        "for number in arr:      #O(n)\n",
        "  for number2 in arr2:  #O(n)\n",
        "    print(number+number2)\n",
        "print(arr[1]+arr2[1])   #O(1)\n",
        "print(arr2[2])          #O(1)\n",
        "\n",
        "#Maka yang diambil yang paling besar yaitu O(2n)"
      ],
      "execution_count": null,
      "outputs": [
        {
          "output_type": "stream",
          "name": "stdout",
          "text": [
            "7\n",
            "8\n",
            "9\n",
            "10\n",
            "11\n",
            "8\n",
            "9\n",
            "10\n",
            "11\n",
            "12\n",
            "9\n",
            "10\n",
            "11\n",
            "12\n",
            "13\n",
            "10\n",
            "11\n",
            "12\n",
            "13\n",
            "14\n",
            "11\n",
            "12\n",
            "13\n",
            "14\n",
            "15\n",
            "9\n",
            "8\n"
          ]
        }
      ]
    },
    {
      "cell_type": "code",
      "metadata": {
        "colab": {
          "base_uri": "https://localhost:8080/"
        },
        "id": "6SC68I3PFFge",
        "outputId": "d0285079-34e4-48c0-fe16-a12bafd1206c"
      },
      "source": [
        "# 6 = Big O (2n+1) = O(n)\n",
        "\n",
        "for number in arr:          #O(n)\n",
        "  for number2 in arr:       #O(n)\n",
        "    print(number+number2)   #O(1)\n",
        "print(arr)\n",
        "\n",
        "#Maka yang diambil yang paling besar yaitu O(2n)"
      ],
      "execution_count": null,
      "outputs": [
        {
          "output_type": "stream",
          "name": "stdout",
          "text": [
            "2\n",
            "3\n",
            "4\n",
            "5\n",
            "6\n",
            "3\n",
            "4\n",
            "5\n",
            "6\n",
            "7\n",
            "4\n",
            "5\n",
            "6\n",
            "7\n",
            "8\n",
            "5\n",
            "6\n",
            "7\n",
            "8\n",
            "9\n",
            "6\n",
            "7\n",
            "8\n",
            "9\n",
            "10\n",
            "[1, 2, 3, 4, 5]\n"
          ]
        }
      ]
    },
    {
      "cell_type": "code",
      "metadata": {
        "colab": {
          "base_uri": "https://localhost:8080/"
        },
        "id": "b7w1_oXnGXfs",
        "outputId": "b800ae4a-6b5a-4490-f927-397eaf3e8624"
      },
      "source": [
        "# 7 + = Big O (3n+3) = O(n)\n",
        "\n",
        "for number in arr:          #O(n)\n",
        "  for number2 in arr2:      #O(n)\n",
        "    for number3 in arr:     #O(n)\n",
        "      print(number+number2+number3)\n",
        "print(arr[1])               #O(1)\n",
        "print(arr2[2])              #O(1)\n",
        "print(arr2[3])              #O(1)\n",
        "\n",
        "#Maka yang diambil yang paling besar yaitu O(3n)"
      ],
      "execution_count": null,
      "outputs": [
        {
          "output_type": "stream",
          "name": "stdout",
          "text": [
            "8\n",
            "9\n",
            "10\n",
            "11\n",
            "12\n",
            "9\n",
            "10\n",
            "11\n",
            "12\n",
            "13\n",
            "10\n",
            "11\n",
            "12\n",
            "13\n",
            "14\n",
            "11\n",
            "12\n",
            "13\n",
            "14\n",
            "15\n",
            "12\n",
            "13\n",
            "14\n",
            "15\n",
            "16\n",
            "9\n",
            "10\n",
            "11\n",
            "12\n",
            "13\n",
            "10\n",
            "11\n",
            "12\n",
            "13\n",
            "14\n",
            "11\n",
            "12\n",
            "13\n",
            "14\n",
            "15\n",
            "12\n",
            "13\n",
            "14\n",
            "15\n",
            "16\n",
            "13\n",
            "14\n",
            "15\n",
            "16\n",
            "17\n",
            "10\n",
            "11\n",
            "12\n",
            "13\n",
            "14\n",
            "11\n",
            "12\n",
            "13\n",
            "14\n",
            "15\n",
            "12\n",
            "13\n",
            "14\n",
            "15\n",
            "16\n",
            "13\n",
            "14\n",
            "15\n",
            "16\n",
            "17\n",
            "14\n",
            "15\n",
            "16\n",
            "17\n",
            "18\n",
            "11\n",
            "12\n",
            "13\n",
            "14\n",
            "15\n",
            "12\n",
            "13\n",
            "14\n",
            "15\n",
            "16\n",
            "13\n",
            "14\n",
            "15\n",
            "16\n",
            "17\n",
            "14\n",
            "15\n",
            "16\n",
            "17\n",
            "18\n",
            "15\n",
            "16\n",
            "17\n",
            "18\n",
            "19\n",
            "12\n",
            "13\n",
            "14\n",
            "15\n",
            "16\n",
            "13\n",
            "14\n",
            "15\n",
            "16\n",
            "17\n",
            "14\n",
            "15\n",
            "16\n",
            "17\n",
            "18\n",
            "15\n",
            "16\n",
            "17\n",
            "18\n",
            "19\n",
            "16\n",
            "17\n",
            "18\n",
            "19\n",
            "20\n",
            "2\n",
            "8\n",
            "9\n"
          ]
        }
      ]
    },
    {
      "cell_type": "code",
      "metadata": {
        "colab": {
          "base_uri": "https://localhost:8080/"
        },
        "id": "Cm1Hcy3JG6sh",
        "outputId": "42cedfc8-f51f-4783-fd10-4a45d6aab0af"
      },
      "source": [
        "# 8 = Big O (3n+1) = O(n)\n",
        "\n",
        "for number in arr:        #O(n)\n",
        "  print(number)\n",
        "print(arr2)\n",
        "for number in arr:        #O(n)\n",
        "  for number2 in arr2:    #O(n)\n",
        "    print(number+number2) #O(1)\n",
        "print(arr)\n",
        "\n",
        "#Maka yang diambil yang paling besar yaitu O(3n)"
      ],
      "execution_count": null,
      "outputs": [
        {
          "output_type": "stream",
          "name": "stdout",
          "text": [
            "1\n",
            "2\n",
            "3\n",
            "4\n",
            "5\n",
            "[6, 7, 8, 9, 10]\n",
            "7\n",
            "8\n",
            "9\n",
            "10\n",
            "11\n",
            "8\n",
            "9\n",
            "10\n",
            "11\n",
            "12\n",
            "9\n",
            "10\n",
            "11\n",
            "12\n",
            "13\n",
            "10\n",
            "11\n",
            "12\n",
            "13\n",
            "14\n",
            "11\n",
            "12\n",
            "13\n",
            "14\n",
            "15\n",
            "[1, 2, 3, 4, 5]\n"
          ]
        }
      ]
    },
    {
      "cell_type": "code",
      "metadata": {
        "id": "EgpO69yqHJ3K",
        "colab": {
          "base_uri": "https://localhost:8080/"
        },
        "outputId": "d32798b2-a3a9-477c-cd98-f50d51370dcb"
      },
      "source": [
        "# 9 \n",
        "\n",
        "# algoritma bubble sort\n",
        "\n",
        "def bubbleSort(arr):\n",
        "    n = len(arr)\n",
        " \n",
        "    # Traverse through all array elements\n",
        "    for i in range(n-1):\n",
        "    # range(n) also work but outer loop will repeat one time more than needed.\n",
        " \n",
        "        # Last i elements are already in place\n",
        "        for j in range(0, n-i-1):\n",
        " \n",
        "            # traverse the array from 0 to n-i-1\n",
        "            # Swap if the element found is greater\n",
        "            # than the next element\n",
        "            if arr[j] > arr[j + 1] :\n",
        "                arr[j], arr[j + 1] = arr[j + 1], arr[j]\n",
        " \n",
        "# Driver code to test above\n",
        "arr = [64, 34, 25, 12, 22, 11, 90]\n",
        " \n",
        "bubbleSort(arr)\n",
        " \n",
        "print (\"Sorted array is:\")\n",
        "for i in range(len(arr)):\n",
        "    print (\"% d\" % arr[i]),"
      ],
      "execution_count": null,
      "outputs": [
        {
          "output_type": "stream",
          "name": "stdout",
          "text": [
            "Sorted array is:\n",
            " 11\n",
            " 12\n",
            " 22\n",
            " 25\n",
            " 34\n",
            " 64\n",
            " 90\n"
          ]
        }
      ]
    },
    {
      "cell_type": "code",
      "metadata": {
        "id": "qD9VauTyG_RJ"
      },
      "source": [
        "# 10\n",
        "def search(arr, x):\n",
        "  \n",
        "    for i in range(len(arr)):\n",
        "  \n",
        "        if arr[i] == x:\n",
        "            return i\n",
        "  \n",
        "    return -1"
      ],
      "execution_count": null,
      "outputs": []
    },
    {
      "cell_type": "code",
      "metadata": {
        "id": "OaKrQWZJH28k",
        "colab": {
          "base_uri": "https://localhost:8080/"
        },
        "outputId": "33afa018-d167-46a6-eee4-c3afb86ebc02"
      },
      "source": [
        "# 11\n",
        "\n",
        "# algoritma binary search\n",
        "def binary_search(arr, x):\n",
        "    low = 0\n",
        "    high = len(arr) - 1\n",
        "    mid = 0\n",
        " \n",
        "    while low <= high:\n",
        " \n",
        "        mid = (high + low) // 2\n",
        " \n",
        "        # If x is greater, ignore left half\n",
        "        if arr[mid] < x:\n",
        "            low = mid + 1\n",
        " \n",
        "        # If x is smaller, ignore right half\n",
        "        elif arr[mid] > x:\n",
        "            high = mid - 1\n",
        " \n",
        "        # means x is present at mid\n",
        "        else:\n",
        "            return mid\n",
        " \n",
        "    # If we reach here, then the element was not present\n",
        "    return -1\n",
        " \n",
        " \n",
        "# Test array\n",
        "arr = [ 2, 3, 4, 10, 40 ]\n",
        "x = 10\n",
        " \n",
        "# Function call\n",
        "result = binary_search(arr, x)\n",
        " \n",
        "if result != -1:\n",
        "    print(\"Element is present at index\", str(result))\n",
        "else:\n",
        "    print(\"Element is not present in array\")"
      ],
      "execution_count": null,
      "outputs": [
        {
          "output_type": "stream",
          "name": "stdout",
          "text": [
            "Element is present at index 3\n"
          ]
        }
      ]
    }
  ]
}
